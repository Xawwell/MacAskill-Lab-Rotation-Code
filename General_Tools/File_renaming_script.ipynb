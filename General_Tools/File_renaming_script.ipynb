{
 "cells": [
  {
   "cell_type": "markdown",
   "source": [
    "# Renaming for behaviour data"
   ],
   "metadata": {
    "collapsed": false
   },
   "id": "9fe848dff979662e"
  },
  {
   "cell_type": "code",
   "execution_count": 8,
   "outputs": [
    {
     "ename": "IndexError",
     "evalue": "list index out of range",
     "output_type": "error",
     "traceback": [
      "\u001B[0;31m---------------------------------------------------------------------------\u001B[0m",
      "\u001B[0;31mIndexError\u001B[0m                                Traceback (most recent call last)",
      "Cell \u001B[0;32mIn[8], line 40\u001B[0m\n\u001B[1;32m     37\u001B[0m \u001B[38;5;66;03m# Renaming process\u001B[39;00m\n\u001B[1;32m     38\u001B[0m \u001B[38;5;28;01mfor\u001B[39;00m filename \u001B[38;5;129;01min\u001B[39;00m os\u001B[38;5;241m.\u001B[39mlistdir(base_path):\n\u001B[1;32m     39\u001B[0m     \u001B[38;5;66;03m# Process files that match the initial pattern 'maxwell_...'\u001B[39;00m\n\u001B[0;32m---> 40\u001B[0m     new_filename \u001B[38;5;241m=\u001B[39m determine_new_filename(filename)\n\u001B[1;32m     41\u001B[0m     \u001B[38;5;28;01mif\u001B[39;00m new_filename:\n\u001B[1;32m     42\u001B[0m         old_path \u001B[38;5;241m=\u001B[39m os\u001B[38;5;241m.\u001B[39mpath\u001B[38;5;241m.\u001B[39mjoin(base_path, filename)\n",
      "Cell \u001B[0;32mIn[8], line 18\u001B[0m, in \u001B[0;36mdetermine_new_filename\u001B[0;34m(old_filename)\u001B[0m\n\u001B[1;32m     16\u001B[0m parts \u001B[38;5;241m=\u001B[39m old_filename\u001B[38;5;241m.\u001B[39msplit(\u001B[38;5;124m'\u001B[39m\u001B[38;5;124m_\u001B[39m\u001B[38;5;124m'\u001B[39m)\n\u001B[1;32m     17\u001B[0m mouse_id \u001B[38;5;241m=\u001B[39m parts[\u001B[38;5;241m1\u001B[39m]\n\u001B[0;32m---> 18\u001B[0m day_str \u001B[38;5;241m=\u001B[39m parts[\u001B[38;5;241m3\u001B[39m]\u001B[38;5;241m.\u001B[39mrstrip(\u001B[38;5;124m'\u001B[39m\u001B[38;5;124m.lvm\u001B[39m\u001B[38;5;124m'\u001B[39m)  \u001B[38;5;66;03m# Removing \".lvm\" to get the day part\u001B[39;00m\n\u001B[1;32m     19\u001B[0m day \u001B[38;5;241m=\u001B[39m \u001B[38;5;28mint\u001B[39m(day_str\u001B[38;5;241m.\u001B[39mreplace(\u001B[38;5;124m'\u001B[39m\u001B[38;5;124mday\u001B[39m\u001B[38;5;124m'\u001B[39m, \u001B[38;5;124m'\u001B[39m\u001B[38;5;124m'\u001B[39m))  \u001B[38;5;66;03m# Extract day as integer\u001B[39;00m\n\u001B[1;32m     21\u001B[0m \u001B[38;5;66;03m# Define the start date of the experiment and calculate the date for the file\u001B[39;00m\n",
      "\u001B[0;31mIndexError\u001B[0m: list index out of range"
     ]
    }
   ],
   "source": [
    "import os\n",
    "from datetime import datetime, timedelta\n",
    "\n",
    "# Define the base path where the files are located\n",
    "base_path = '/Users/chenx/Desktop/MacAskill Lab/Data/My_Rig_Data/Behaviour' # Change this to your actual directory path\n",
    "import os\n",
    "from datetime import datetime, timedelta\n",
    "\n",
    "# Define the base path where the files are located\n",
    "\n",
    "# A simplified and corrected function to determine the new filename\n",
    "def determine_new_filename(old_filename):\n",
    "    # Check if filename follows expected pattern\n",
    "    if old_filename.startswith(\"maxwell_\") and old_filename.endswith(\".lvm\"):\n",
    "        # Extract the mouse ID and day information\n",
    "        parts = old_filename.split('_')\n",
    "        mouse_id = parts[1]\n",
    "        day_str = parts[3].rstrip('.lvm')  # Removing \".lvm\" to get the day part\n",
    "        day = int(day_str.replace('day', ''))  # Extract day as integer\n",
    "\n",
    "        # Define the start date of the experiment and calculate the date for the file\n",
    "        start_date = datetime(2024, 3, 6)\n",
    "        experiment_date = start_date + timedelta(days=day)\n",
    "\n",
    "        # Assuming the phase transition condition (days <= 2: Random Reward, else: Shaping)\n",
    "        if day <= 2:\n",
    "            phase = \"Random_Reward\"\n",
    "        else:\n",
    "            phase = \"Shaping\"\n",
    "\n",
    "        # Construct new filename using underscores for date\n",
    "        new_filename = f\"MC{mouse_id}_{experiment_date.strftime('%Y_%m_%d')}_{phase}_Day{day+1}.lvm\"\n",
    "        return new_filename\n",
    "\n",
    "    return None  # Return None if the file doesn't match the pattern\n",
    "\n",
    "# Renaming process\n",
    "for filename in os.listdir(base_path):\n",
    "    # Process files that match the initial pattern 'maxwell_...'\n",
    "    new_filename = determine_new_filename(filename)\n",
    "    if new_filename:\n",
    "        old_path = os.path.join(base_path, filename)\n",
    "        new_path = os.path.join(base_path, new_filename)\n",
    "        os.rename(old_path, new_path)\n",
    "        print(f\"Renamed {filename} to {new_filename}\")\n",
    "    else:\n",
    "        print(f\"Skipping file with no matching pattern: {filename}\")\n",
    "\n"
   ],
   "metadata": {
    "collapsed": false,
    "ExecuteTime": {
     "start_time": "2024-03-12T16:32:30.147743Z"
    }
   },
   "id": "initial_id"
  },
  {
   "cell_type": "code",
   "execution_count": 18,
   "outputs": [
    {
     "name": "stdout",
     "output_type": "stream",
     "text": [
      "Skipping file with no matching pattern: maxwell_453_day2_raw.tdms\n",
      "Skipping file with no matching pattern: maxwell_453_day3_raw.tdms\n",
      "Skipping file with no matching pattern: maxwell_454_day2_raw.tdms_index\n",
      "Skipping file with no matching pattern: maxwell_452_day3_raw.tdms_index\n",
      "Skipping file with no matching pattern: maxwell_453_day3_raw.tdms_index\n",
      "Skipping file with no matching pattern: maxwell_452_day1.tdms_index\n",
      "Skipping file with no matching pattern: maxwell_453_day0.tdms\n",
      "Skipping file with no matching pattern: maxwell_454_day3.tdms_index\n",
      "Skipping file with no matching pattern: maxwell_453_day3.tdms_index\n",
      "Skipping file not part of experiment: .DS_Store\n",
      "Skipping file with no matching pattern: maxwell_453_day1.tdms\n",
      "Skipping file with no matching pattern: maxwell_453_day2_raw.tdms_index\n",
      "Skipping file with no matching pattern: maxwell_452_day2_raw.tdms_index\n",
      "Skipping file with no matching pattern: maxwell_454_day3_raw.tdms_index\n",
      "Skipping file with no matching pattern: maxwell_454_day2_raw.tdms\n",
      "Skipping file with no matching pattern: maxwell_454_day3_raw.tdms\n",
      "Skipping file with no matching pattern: maxwell_453_day0_raw.tdms_index\n",
      "Skipping file with no matching pattern: maxwell_454_day1.tdms\n",
      "Skipping file with no matching pattern: maxwell_452_day3.tdms_index\n",
      "Skipping file with no matching pattern: maxwell_452_day0_raw.tdms_index\n",
      "Skipping file with no matching pattern: maxwell_454_day1_raw.tdms_index\n",
      "Skipping file with no matching pattern: maxwell_452_day0.tdms\n",
      "Skipping file with no matching pattern: maxwell_454_day1.tdms_index\n",
      "Skipping file with no matching pattern: maxwell_452_day1_raw.tdms\n",
      "Skipping file with no matching pattern: maxwell_452_day0_raw.tdms\n",
      "Skipping file with no matching pattern: maxwell_453_day1.tdms_index\n",
      "Skipping file with no matching pattern: maxwell_452_day1.tdms\n",
      "Skipping file with no matching pattern: maxwell_454_day0_raw.tdms_index\n",
      "Skipping file with no matching pattern: maxwell_452_day1_raw.tdms_index\n",
      "Skipping file with no matching pattern: maxwell_453_day1_raw.tdms_index\n",
      "Skipping file with no matching pattern: maxwell_454_day0.tdms\n",
      "Skipping file with no matching pattern: maxwell_453_day2.tdms_index\n",
      "Skipping file with no matching pattern: maxwell_454_day1_raw.tdms\n",
      "Skipping file with no matching pattern: maxwell_454_day0_raw.tdms\n",
      "Skipping file with no matching pattern: maxwell_454_day3.tdms\n",
      "Skipping file with no matching pattern: maxwell_452_day2.tdms\n",
      "Skipping file with no matching pattern: maxwell_452_day3.tdms\n",
      "Skipping file with no matching pattern: maxwell_452_day0.tdms_index\n",
      "Skipping file with no matching pattern: maxwell_454_day2.tdms\n",
      "Skipping file with no matching pattern: maxwell_453_day1_raw.tdms\n",
      "Skipping file with no matching pattern: maxwell_453_day0_raw.tdms\n",
      "Skipping file with no matching pattern: maxwell_454_day2.tdms_index\n",
      "Skipping file with no matching pattern: maxwell_453_day0.tdms_index\n",
      "Skipping file with no matching pattern: maxwell_453_day2.tdms\n",
      "Skipping file with no matching pattern: maxwell_453_day3.tdms\n",
      "Skipping file with no matching pattern: maxwell_452_day2.tdms_index\n",
      "Skipping file with no matching pattern: maxwell_452_day2_raw.tdms\n",
      "Skipping file with no matching pattern: maxwell_452_day3_raw.tdms\n",
      "Skipping file with no matching pattern: maxwell_454_day0.tdms_index\n"
     ]
    }
   ],
   "source": [
    "import os\n",
    "from datetime import datetime, timedelta\n",
    "\n",
    "base_path = '/Users/chenx/Desktop/MacAskill Lab/Data/My_Rig_Data/Photometry'\n",
    "\n",
    "def parse_filename(filename):\n",
    "    # Identifying suffixes and preparing for removal to isolate core filename components\n",
    "    if filename.endswith('_raw.tdms_index'):\n",
    "        suffix = '_raw.tdms_index'\n",
    "    elif filename.endswith('_raw.tdms'):\n",
    "        suffix = '_raw.tdms'\n",
    "    elif filename.endswith('.tdms_index'):\n",
    "        suffix = '.tdms_index'\n",
    "    elif filename.endswith('.tdms'):\n",
    "        suffix = '.tdms'\n",
    "    else:\n",
    "        return None, None, None, None\n",
    "\n",
    "    # Removing the identified suffix to parse the core components\n",
    "    core_filename = filename.replace(suffix, '')\n",
    "    parts = core_filename.split('_')\n",
    "\n",
    "    # Ensuring the filename has the expected number of components\n",
    "    if len(parts) != 4:\n",
    "        return None, None, None, None\n",
    "\n",
    "    mouse_id = parts[1]\n",
    "    try:\n",
    "        day = int(parts[3].lstrip('day'))\n",
    "    except ValueError:\n",
    "        return None, None, None, None\n",
    "\n",
    "    return mouse_id, day, suffix, parts[0]\n",
    "\n",
    "def determine_new_filename(mouse_id, day, suffix):\n",
    "    start_date = datetime(2024, 3, 6)\n",
    "    experiment_date = start_date + timedelta(days=day)\n",
    "    phase = \"RandomReward\" if day <= 2 else \"Shaping\"\n",
    "    new_filename = f\"MC{mouse_id}_{experiment_date.strftime('%Y_%m_%d')}_{phase}_Day{day + 1}{suffix}\"\n",
    "    return new_filename\n",
    "\n",
    "for filename in os.listdir(base_path):\n",
    "    if not filename.startswith('maxwell_') or filename == \".DS_Store\":\n",
    "        print(f\"Skipping file not part of experiment: {filename}\")\n",
    "        continue\n",
    "\n",
    "    mouse_id, day, suffix, prefix = parse_filename(filename)\n",
    "    if mouse_id is None:\n",
    "        print(f\"Skipping file with no matching pattern: {filename}\")\n",
    "        continue\n",
    "\n",
    "    new_filename = determine_new_filename(mouse_id, day, suffix)\n",
    "    old_path = os.path.join(base_path, filename)\n",
    "    new_path = os.path.join(base_path, new_filename)\n",
    "    os.rename(old_path, new_path)\n",
    "    print(f\"Renamed {filename} to {new_filename}\")\n"
   ],
   "metadata": {
    "collapsed": false,
    "ExecuteTime": {
     "end_time": "2024-03-12T16:56:34.341628Z",
     "start_time": "2024-03-12T16:56:34.303651Z"
    }
   },
   "id": "3929bf4e09a12692"
  },
  {
   "cell_type": "code",
   "execution_count": null,
   "outputs": [],
   "source": [],
   "metadata": {
    "collapsed": false
   },
   "id": "5ce61addd107d077"
  }
 ],
 "metadata": {
  "kernelspec": {
   "display_name": "Python 3",
   "language": "python",
   "name": "python3"
  },
  "language_info": {
   "codemirror_mode": {
    "name": "ipython",
    "version": 2
   },
   "file_extension": ".py",
   "mimetype": "text/x-python",
   "name": "python",
   "nbconvert_exporter": "python",
   "pygments_lexer": "ipython2",
   "version": "2.7.6"
  }
 },
 "nbformat": 4,
 "nbformat_minor": 5
}
